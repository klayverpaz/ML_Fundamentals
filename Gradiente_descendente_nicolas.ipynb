{
 "cells": [
  {
   "cell_type": "code",
   "execution_count": 1,
   "metadata": {},
   "outputs": [],
   "source": [
    "import pandas as pd\n",
    "import numpy as np \n",
    "import matplotlib.pyplot as plt\n",
    "%matplotlib inline\n",
    "import seaborn as sns \n",
    "sns.set(style='darkgrid')"
   ]
  },
  {
   "cell_type": "code",
   "execution_count": 88,
   "metadata": {},
   "outputs": [
    {
     "data": {
      "text/html": [
       "<div>\n",
       "<style scoped>\n",
       "    .dataframe tbody tr th:only-of-type {\n",
       "        vertical-align: middle;\n",
       "    }\n",
       "\n",
       "    .dataframe tbody tr th {\n",
       "        vertical-align: top;\n",
       "    }\n",
       "\n",
       "    .dataframe thead th {\n",
       "        text-align: right;\n",
       "    }\n",
       "</style>\n",
       "<table border=\"1\" class=\"dataframe\">\n",
       "  <thead>\n",
       "    <tr style=\"text-align: right;\">\n",
       "      <th></th>\n",
       "      <th>Peso</th>\n",
       "      <th>Altura</th>\n",
       "      <th>Cateter</th>\n",
       "    </tr>\n",
       "  </thead>\n",
       "  <tbody>\n",
       "    <tr>\n",
       "      <th>0</th>\n",
       "      <td>18.140590</td>\n",
       "      <td>1.087122</td>\n",
       "      <td>37.0</td>\n",
       "    </tr>\n",
       "    <tr>\n",
       "      <th>1</th>\n",
       "      <td>42.403628</td>\n",
       "      <td>1.612903</td>\n",
       "      <td>50.0</td>\n",
       "    </tr>\n",
       "    <tr>\n",
       "      <th>2</th>\n",
       "      <td>16.099773</td>\n",
       "      <td>0.952502</td>\n",
       "      <td>34.0</td>\n",
       "    </tr>\n",
       "    <tr>\n",
       "      <th>3</th>\n",
       "      <td>13.605442</td>\n",
       "      <td>1.003302</td>\n",
       "      <td>36.0</td>\n",
       "    </tr>\n",
       "    <tr>\n",
       "      <th>4</th>\n",
       "      <td>23.582766</td>\n",
       "      <td>1.155702</td>\n",
       "      <td>43.0</td>\n",
       "    </tr>\n",
       "    <tr>\n",
       "      <th>5</th>\n",
       "      <td>7.709751</td>\n",
       "      <td>0.977902</td>\n",
       "      <td>28.0</td>\n",
       "    </tr>\n",
       "    <tr>\n",
       "      <th>6</th>\n",
       "      <td>17.460317</td>\n",
       "      <td>1.092202</td>\n",
       "      <td>37.0</td>\n",
       "    </tr>\n",
       "    <tr>\n",
       "      <th>7</th>\n",
       "      <td>3.854875</td>\n",
       "      <td>0.571501</td>\n",
       "      <td>20.0</td>\n",
       "    </tr>\n",
       "    <tr>\n",
       "      <th>8</th>\n",
       "      <td>14.965986</td>\n",
       "      <td>0.939802</td>\n",
       "      <td>34.0</td>\n",
       "    </tr>\n",
       "    <tr>\n",
       "      <th>9</th>\n",
       "      <td>4.308390</td>\n",
       "      <td>0.596901</td>\n",
       "      <td>30.0</td>\n",
       "    </tr>\n",
       "    <tr>\n",
       "      <th>10</th>\n",
       "      <td>9.523810</td>\n",
       "      <td>0.838202</td>\n",
       "      <td>38.0</td>\n",
       "    </tr>\n",
       "    <tr>\n",
       "      <th>11</th>\n",
       "      <td>35.827664</td>\n",
       "      <td>1.473203</td>\n",
       "      <td>47.0</td>\n",
       "    </tr>\n",
       "  </tbody>\n",
       "</table>\n",
       "</div>"
      ],
      "text/plain": [
       "         Peso    Altura  Cateter\n",
       "0   18.140590  1.087122     37.0\n",
       "1   42.403628  1.612903     50.0\n",
       "2   16.099773  0.952502     34.0\n",
       "3   13.605442  1.003302     36.0\n",
       "4   23.582766  1.155702     43.0\n",
       "5    7.709751  0.977902     28.0\n",
       "6   17.460317  1.092202     37.0\n",
       "7    3.854875  0.571501     20.0\n",
       "8   14.965986  0.939802     34.0\n",
       "9    4.308390  0.596901     30.0\n",
       "10   9.523810  0.838202     38.0\n",
       "11  35.827664  1.473203     47.0"
      ]
     },
     "execution_count": 88,
     "metadata": {},
     "output_type": "execute_result"
    }
   ],
   "source": [
    "data_table = pd.DataFrame({'Peso': np.array([40.0, 93.5, 35.5, 30.0, 52.0, 17.0, 38.5,  8.5, 33.0,  9.5, 21.0, 79.0]) / 2.205,\n",
    "                            'Altura': np.array([42.8, 63.5, 37.5, 39.5, 45.5, 38.5, 43.0, 22.5, 37.0, 23.5, 33.0, 58.0]) / 39.37,\n",
    "                            'Cateter': [37, 50, 34, 36, 43, 28, 37, 20, 34, 30, 38, 47]},\n",
    "                            dtype='float')\n",
    "x = data_table.Altura\n",
    "y = data_table.Cateter\n",
    "data_table"
   ]
  },
  {
   "cell_type": "code",
   "execution_count": 87,
   "metadata": {},
   "outputs": [
    {
     "name": "stdout",
     "output_type": "stream",
     "text": [
      "w0:  4.047300682171649\n",
      "w1:  6.278122801604764\n",
      "funcao custo analitica 349.39943965339216\n",
      "mean squared error form scikit 349.39943965339216\n"
     ]
    }
   ],
   "source": [
    "#atribuindo dois coeficientes ws arbitrários\n",
    "import random \n",
    "w0, w1 = random.uniform(1,10), random.uniform(1,10)\n",
    "print('w0: ', w0)\n",
    "print('w1: ', w1)\n",
    "#y_inferencias recebe a equação da reta com w arbitrários\n",
    "y_inf =list(map(lambda i: w0+w1*i,x))\n",
    "print('funcao custo analitica',funcao_custo(w1,w0))\n",
    "#Equivalente  a \n",
    "from sklearn.metrics import mean_squared_error\n",
    "print('mean squared error form scikit',mean_squared_error(y_inf,y)/2)"
   ]
  },
  {
   "cell_type": "code",
   "execution_count": 84,
   "metadata": {},
   "outputs": [],
   "source": [
    "#funcao custo\n",
    "def funcao_custo(w0,w1):\n",
    "    somatorio=0\n",
    "    N=len(x)\n",
    "    for i in range(N):\n",
    "        e = y[i] - y_inf[i]\n",
    "        somatorio = somatorio + e**2\n",
    "    I=somatorio/(2*N)\n",
    "    return I\n",
    "def plot_fc():\n",
    "    plt.plot(fc)\n",
    "    plt.xlabel('Iterações')\n",
    "    plt.ylabel('RMS')\n",
    "    plt.title('Função Custo\\n', fontsize=20)\n",
    "    plt.show()\n",
    "def plot_lr():\n",
    "    plt.plot(x,y,'o', color='black')\n",
    "    plt.plot(x,y_inf,'-',color='red')\n",
    "    plt.title('Dados\\n', fontsize=20)\n",
    "    plt.xlabel('Altura do paciente (m)')\n",
    "    plt.ylabel('Tamanho do Cateter (cm)')\n",
    "    plt.show()"
   ]
  },
  {
   "cell_type": "markdown",
   "metadata": {},
   "source": [
    "### Como plotar o paraboloide da função custo?"
   ]
  },
  {
   "cell_type": "code",
   "execution_count": null,
   "metadata": {},
   "outputs": [],
   "source": [
    "#QUERO PLOTAR O PARABOLOIDE DO ERRO \n",
    "from mpl_toolkits.mplot3d import Axes3D\n",
    "x1=np.arange(-100,100,0.5)\n",
    "y1=np.arange(-100,100,0.5)\n",
    "w0, w1 = random.uniform(1,10), random.uniform(1,10)\n",
    "y1_inf = list(map(lambda i: w0+w1*i,x1))\n",
    "#criando coordenadas em 3D\n",
    "X,Y = np.meshgrid(x1, y1_inf)\n",
    "#Função a ser plotada U(x,y)\n",
    "I=[]\n",
    "for i in range(len(x1)):\n",
    "    ret=funcao_custo(X[i],y1,Y[i])\n",
    "    I.append(ret)\n",
    "#Vinculando a figura as coordenadas 3D\n",
    "fig = plt.figure()\n",
    "ax = Axes3D(fig)\n",
    "#plotando grafico \n",
    "ax.plot_surface(X,Y,I)\n",
    "plt.show()"
   ]
  },
  {
   "cell_type": "markdown",
   "metadata": {},
   "source": [
    "## ------------------------------------------------------------"
   ]
  },
  {
   "cell_type": "code",
   "execution_count": 92,
   "metadata": {},
   "outputs": [],
   "source": [
    "#GRADIENTE DESCENDENTE (GD)\n",
    "def GD(x,y,alpha = random.random()):\n",
    "    # adotando hiperparametros \n",
    "    print('taxa de aprendizagem: ', alpha)\n",
    "    # critérios\n",
    "    N = len(x)\n",
    "    itera = 100\n",
    "    # adortando parametros\n",
    "    w0, w1 = random.uniform(1,10), random.uniform(1,10)\n",
    "    print('w0 inicial: ', w0)\n",
    "    print('w1 inicial: ', w1)\n",
    "    fc=[]\n",
    "    for it in range(itera):\n",
    "        # y_inferencias recebe a equação da reta com w arbitrários\n",
    "        y_inf =list(map(lambda i: w0+w1*i,x))\n",
    "        # atualizando os parametros\n",
    "        erro=[]\n",
    "        for n in range(N):\n",
    "            erro.append(y[n]-y_inf[n])\n",
    "        w0 = w0 + alpha* (sum(erro)/N)\n",
    "        w1 = w1 + alpha* (sum(erro*x)/N)\n",
    "        y_inf =list(map(lambda i: w0+w1*i,x))\n",
    "        fc.append(funcao_custo(w0,w1))\n",
    "    plot_lr()\n",
    "    plot_fc()"
   ]
  },
  {
   "cell_type": "code",
   "execution_count": 93,
   "metadata": {},
   "outputs": [
    {
     "name": "stdout",
     "output_type": "stream",
     "text": [
      "taxa de aprendizagem:  0.24316668165493216\n",
      "w0 inicial:  2.095559705329116\n",
      "w1 inicial:  4.439192692239409\n"
     ]
    },
    {
     "data": {
      "image/png": "[encoded data removed]",
      "text/plain": [
       "<Figure size 432x288 with 1 Axes>"
      ]
     },
     "metadata": {},
     "output_type": "display_data"
    },
    {
     "data": {
      "image/png": "[encoded data removed]",
      "text/plain": [
       "<Figure size 432x288 with 1 Axes>"
      ]
     },
     "metadata": {},
     "output_type": "display_data"
    }
   ],
   "source": [
    "GD(x,y)"
   ]
  },
  {
   "cell_type": "markdown",
   "metadata": {},
   "source": [
    "### Agora vamos acrescentar uma nova dimensão"
   ]
  },
  {
   "cell_type": "code",
   "execution_count": null,
   "metadata": {},
   "outputs": [],
   "source": []
  },
  {
   "cell_type": "code",
   "execution_count": null,
   "metadata": {},
   "outputs": [],
   "source": []
  },
  {
   "cell_type": "code",
   "execution_count": null,
   "metadata": {},
   "outputs": [],
   "source": []
  },
  {
   "cell_type": "code",
   "execution_count": null,
   "metadata": {},
   "outputs": [],
   "source": []
  },
  {
   "cell_type": "code",
   "execution_count": null,
   "metadata": {},
   "outputs": [],
   "source": []
  },
  {
   "cell_type": "code",
   "execution_count": null,
   "metadata": {},
   "outputs": [],
   "source": []
  },
  {
   "cell_type": "code",
   "execution_count": null,
   "metadata": {},
   "outputs": [],
   "source": [
    "[w1,w2]@X[0]"
   ]
  },
  {
   "cell_type": "code",
   "execution_count": null,
   "metadata": {},
   "outputs": [],
   "source": [
    "#normalizar é pra nao enviesza\n",
    "#media 0\n",
    "#std 1\n",
    "def normalize(X,type_='std'):\n",
    "    if type_=='std':\n",
    "        return (X - X.mean(axis=0)) / X.std(axis=0)\n",
    "    if type_=='zero_one':\n",
    "        return (X - X.min(axis=0))  / (X.max(axis=0)-X.min(axis=0))"
   ]
  },
  {
   "cell_type": "code",
   "execution_count": null,
   "metadata": {},
   "outputs": [],
   "source": [
    "ndata=normalize(data_table)\n",
    "ndata"
   ]
  },
  {
   "cell_type": "code",
   "execution_count": null,
   "metadata": {},
   "outputs": [],
   "source": [
    "indice=list(len(ndata))\n"
   ]
  },
  {
   "cell_type": "markdown",
   "metadata": {},
   "source": [
    "### Agora implementamos os Métodos \n",
    "#### Gradiente Descendente (GD)"
   ]
  },
  {
   "cell_type": "code",
   "execution_count": null,
   "metadata": {},
   "outputs": [],
   "source": [
    "X_norm[0]"
   ]
  },
  {
   "cell_type": "code",
   "execution_count": null,
   "metadata": {},
   "outputs": [],
   "source": [
    "w0=0.001\n",
    "alpha=0.001\n",
    "v_rand=np.random.rand(3)\n",
    "prediction=list(range(len(X)))\n",
    "for i in range(1,len(X)):\n",
    "    prediction[i]=v_rand@X_norm[i]\n",
    "    error=(cateter[i]-prediction[i])\n",
    "    w0=w0+(alpha/i)*np.sum(error,axis=0)\n",
    "    \n",
    "    \n",
    "    \n",
    "#yc1=w0+w1x1+w2x2"
   ]
  },
  {
   "cell_type": "code",
   "execution_count": null,
   "metadata": {},
   "outputs": [],
   "source": [
    "np.shape(prediction)"
   ]
  },
  {
   "cell_type": "code",
   "execution_count": null,
   "metadata": {},
   "outputs": [],
   "source": [
    "np.exp(,2)"
   ]
  },
  {
   "cell_type": "code",
   "execution_count": null,
   "metadata": {},
   "outputs": [],
   "source": [
    "np.asanyarray([1,2,3,4])"
   ]
  },
  {
   "cell_type": "code",
   "execution_count": null,
   "metadata": {},
   "outputs": [],
   "source": []
  },
  {
   "cell_type": "code",
   "execution_count": null,
   "metadata": {},
   "outputs": [],
   "source": []
  },
  {
   "cell_type": "code",
   "execution_count": null,
   "metadata": {},
   "outputs": [],
   "source": []
  },
  {
   "cell_type": "code",
   "execution_count": null,
   "metadata": {},
   "outputs": [],
   "source": []
  },
  {
   "cell_type": "code",
   "execution_count": null,
   "metadata": {},
   "outputs": [],
   "source": []
  },
  {
   "cell_type": "code",
   "execution_count": null,
   "metadata": {},
   "outputs": [],
   "source": [
    "def build_poly_regressors(x,poly_order=1):\n",
    "    poly_regressors=np.hstack((np.ones((x.shape[0],1)),x))\n",
    "    if poly_order > 1:\n",
    "        for i in range(2,poly_order,)"
   ]
  },
  {
   "cell_type": "code",
   "execution_count": null,
   "metadata": {},
   "outputs": [],
   "source": []
  },
  {
   "cell_type": "code",
   "execution_count": null,
   "metadata": {},
   "outputs": [],
   "source": []
  },
  {
   "cell_type": "code",
   "execution_count": null,
   "metadata": {},
   "outputs": [],
   "source": []
  },
  {
   "cell_type": "code",
   "execution_count": null,
   "metadata": {},
   "outputs": [],
   "source": [
    "normalize(data_table).mean()"
   ]
  },
  {
   "cell_type": "code",
   "execution_count": null,
   "metadata": {},
   "outputs": [],
   "source": [
    "normalize(data_table).std()"
   ]
  },
  {
   "cell_type": "code",
   "execution_count": null,
   "metadata": {},
   "outputs": [],
   "source": [
    "# Gradiente Descendente \n",
    "X = np.random.randn(10,3)\n",
    "X"
   ]
  },
  {
   "cell_type": "code",
   "execution_count": null,
   "metadata": {},
   "outputs": [],
   "source": [
    "X + X.std(axis=0)"
   ]
  },
  {
   "cell_type": "code",
   "execution_count": null,
   "metadata": {},
   "outputs": [],
   "source": []
  },
  {
   "cell_type": "code",
   "execution_count": null,
   "metadata": {},
   "outputs": [],
   "source": [
    "\n",
    "#  x02.txt\n",
    "#\n",
    "#  Reference:\n",
    "#\n",
    "#    Helmut Spaeth,\n",
    "#    Mathematical Algorithms for Linear Regression,\n",
    "#    Academic Press, 1991, page 304,\n",
    "#    ISBN 0-12-656460-4.\n",
    "#\n",
    "#    S Weisberg,\n",
    "#    Applied Linear Regression,\n",
    "#    Wiley, 1980, page 218.\n",
    "#\n",
    "#  Discussion:\n",
    "#\n",
    "#    For 12 young patients, catheters were fed from a principal vein\n",
    "#    into the heart.  The necessary catheter length was measured.\n",
    "#    The height and weight of the patients was noted.  \n",
    "#\n",
    "#    There are 12 rows of data.  The data columns include:\n",
    "#\n",
    "#      I,  the index;\n",
    "#      A1, the height;\n",
    "#      A2, the weight;\n",
    "#      B,  the catheter length.\n",
    "#\n",
    "#    We seek a model of the form:\n",
    "#\n",
    "#      B = A1 * X1 + A2 * X2.\n",
    "#\n",
    "4 columns\n",
    "12 rows\n",
    "Index\n",
    "Patient Height (inches)\n",
    "Patient Weight (pounds)\n",
    "Catheter Length (centimeters)\n",
    " 1  42.8  40.0  37\n",
    " 2  63.5  93.5  50\n",
    " 3  37.5  35.5  34\n",
    " 4  39.5  30.0  36\n",
    " 5  45.5  52.0  43\n",
    " 6  38.5  17.0  28\n",
    " 7  43.0  38.5  37\n",
    " 8  22.5   8.5  20\n",
    " 9  37.0  33.0  34\n",
    "10  23.5   9.5  30\n",
    "11  33.0  21.0  38\n",
    "12  58.0  79.0  47\n",
    "\n"
   ]
  },
  {
   "cell_type": "code",
   "execution_count": null,
   "metadata": {},
   "outputs": [],
   "source": []
  }
 ],
 "metadata": {
  "kernelspec": {
   "display_name": "Python 3",
   "language": "python",
   "name": "python3"
  },
  "language_info": {
   "codemirror_mode": {
    "name": "ipython",
    "version": 3
   },
   "file_extension": ".py",
   "mimetype": "text/x-python",
   "name": "python",
   "nbconvert_exporter": "python",
   "pygments_lexer": "ipython3",
   "version": "3.7.5"
  }
 },
 "nbformat": 4,
 "nbformat_minor": 4
}
