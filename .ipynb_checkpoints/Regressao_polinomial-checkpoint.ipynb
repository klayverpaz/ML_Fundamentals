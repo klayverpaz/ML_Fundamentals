{
 "cells": [
  {
   "cell_type": "markdown",
   "metadata": {},
   "source": [
    "# Aula 04 - Regressão Polinomial"
   ]
  },
  {
   "cell_type": "code",
   "execution_count": 5,
   "metadata": {},
   "outputs": [],
   "source": [
    "import pandas as pd\n",
    "import numpy as np \n",
    "import matplotlib.pyplot as plt\n",
    "%matplotlib inline\n",
    "import seaborn as sns \n",
    "sns.set(style='darkgrid')\n",
    "import random"
   ]
  },
  {
   "cell_type": "code",
   "execution_count": 2,
   "metadata": {},
   "outputs": [
    {
     "data": {
      "text/html": [
       "<div>\n",
       "<style scoped>\n",
       "    .dataframe tbody tr th:only-of-type {\n",
       "        vertical-align: middle;\n",
       "    }\n",
       "\n",
       "    .dataframe tbody tr th {\n",
       "        vertical-align: top;\n",
       "    }\n",
       "\n",
       "    .dataframe thead th {\n",
       "        text-align: right;\n",
       "    }\n",
       "</style>\n",
       "<table border=\"1\" class=\"dataframe\">\n",
       "  <thead>\n",
       "    <tr style=\"text-align: right;\">\n",
       "      <th></th>\n",
       "      <th>Peso</th>\n",
       "      <th>Altura</th>\n",
       "      <th>Cateter</th>\n",
       "    </tr>\n",
       "  </thead>\n",
       "  <tbody>\n",
       "    <tr>\n",
       "      <th>0</th>\n",
       "      <td>18.140590</td>\n",
       "      <td>1.087122</td>\n",
       "      <td>37.0</td>\n",
       "    </tr>\n",
       "    <tr>\n",
       "      <th>1</th>\n",
       "      <td>42.403628</td>\n",
       "      <td>1.612903</td>\n",
       "      <td>50.0</td>\n",
       "    </tr>\n",
       "    <tr>\n",
       "      <th>2</th>\n",
       "      <td>16.099773</td>\n",
       "      <td>0.952502</td>\n",
       "      <td>34.0</td>\n",
       "    </tr>\n",
       "    <tr>\n",
       "      <th>3</th>\n",
       "      <td>13.605442</td>\n",
       "      <td>1.003302</td>\n",
       "      <td>36.0</td>\n",
       "    </tr>\n",
       "    <tr>\n",
       "      <th>4</th>\n",
       "      <td>23.582766</td>\n",
       "      <td>1.155702</td>\n",
       "      <td>43.0</td>\n",
       "    </tr>\n",
       "    <tr>\n",
       "      <th>5</th>\n",
       "      <td>7.709751</td>\n",
       "      <td>0.977902</td>\n",
       "      <td>28.0</td>\n",
       "    </tr>\n",
       "    <tr>\n",
       "      <th>6</th>\n",
       "      <td>17.460317</td>\n",
       "      <td>1.092202</td>\n",
       "      <td>37.0</td>\n",
       "    </tr>\n",
       "    <tr>\n",
       "      <th>7</th>\n",
       "      <td>3.854875</td>\n",
       "      <td>0.571501</td>\n",
       "      <td>20.0</td>\n",
       "    </tr>\n",
       "    <tr>\n",
       "      <th>8</th>\n",
       "      <td>14.965986</td>\n",
       "      <td>0.939802</td>\n",
       "      <td>34.0</td>\n",
       "    </tr>\n",
       "    <tr>\n",
       "      <th>9</th>\n",
       "      <td>4.308390</td>\n",
       "      <td>0.596901</td>\n",
       "      <td>30.0</td>\n",
       "    </tr>\n",
       "    <tr>\n",
       "      <th>10</th>\n",
       "      <td>9.523810</td>\n",
       "      <td>0.838202</td>\n",
       "      <td>38.0</td>\n",
       "    </tr>\n",
       "    <tr>\n",
       "      <th>11</th>\n",
       "      <td>35.827664</td>\n",
       "      <td>1.473203</td>\n",
       "      <td>47.0</td>\n",
       "    </tr>\n",
       "  </tbody>\n",
       "</table>\n",
       "</div>"
      ],
      "text/plain": [
       "         Peso    Altura  Cateter\n",
       "0   18.140590  1.087122     37.0\n",
       "1   42.403628  1.612903     50.0\n",
       "2   16.099773  0.952502     34.0\n",
       "3   13.605442  1.003302     36.0\n",
       "4   23.582766  1.155702     43.0\n",
       "5    7.709751  0.977902     28.0\n",
       "6   17.460317  1.092202     37.0\n",
       "7    3.854875  0.571501     20.0\n",
       "8   14.965986  0.939802     34.0\n",
       "9    4.308390  0.596901     30.0\n",
       "10   9.523810  0.838202     38.0\n",
       "11  35.827664  1.473203     47.0"
      ]
     },
     "execution_count": 2,
     "metadata": {},
     "output_type": "execute_result"
    }
   ],
   "source": [
    "data_table = pd.DataFrame({'Peso': np.array([40.0, 93.5, 35.5, 30.0, 52.0, 17.0, 38.5,  8.5, 33.0,  9.5, 21.0, 79.0]) / 2.205,\n",
    "                            'Altura': np.array([42.8, 63.5, 37.5, 39.5, 45.5, 38.5, 43.0, 22.5, 37.0, 23.5, 33.0, 58.0]) / 39.37,\n",
    "                            'Cateter': [37, 50, 34, 36, 43, 28, 37, 20, 34, 30, 38, 47]},\n",
    "                            dtype='float')\n",
    "data_table"
   ]
  },
  {
   "cell_type": "code",
   "execution_count": 4,
   "metadata": {},
   "outputs": [
    {
     "data": {
      "text/html": [
       "<div>\n",
       "<style scoped>\n",
       "    .dataframe tbody tr th:only-of-type {\n",
       "        vertical-align: middle;\n",
       "    }\n",
       "\n",
       "    .dataframe tbody tr th {\n",
       "        vertical-align: top;\n",
       "    }\n",
       "\n",
       "    .dataframe thead th {\n",
       "        text-align: right;\n",
       "    }\n",
       "</style>\n",
       "<table border=\"1\" class=\"dataframe\">\n",
       "  <thead>\n",
       "    <tr style=\"text-align: right;\">\n",
       "      <th></th>\n",
       "      <th>Peso</th>\n",
       "      <th>Altura</th>\n",
       "      <th>Cateter</th>\n",
       "      <th>Altura^2</th>\n",
       "    </tr>\n",
       "  </thead>\n",
       "  <tbody>\n",
       "    <tr>\n",
       "      <th>0</th>\n",
       "      <td>18.140590</td>\n",
       "      <td>1.087122</td>\n",
       "      <td>37.0</td>\n",
       "      <td>1.181835</td>\n",
       "    </tr>\n",
       "    <tr>\n",
       "      <th>1</th>\n",
       "      <td>42.403628</td>\n",
       "      <td>1.612903</td>\n",
       "      <td>50.0</td>\n",
       "      <td>2.601457</td>\n",
       "    </tr>\n",
       "    <tr>\n",
       "      <th>2</th>\n",
       "      <td>16.099773</td>\n",
       "      <td>0.952502</td>\n",
       "      <td>34.0</td>\n",
       "      <td>0.907260</td>\n",
       "    </tr>\n",
       "    <tr>\n",
       "      <th>3</th>\n",
       "      <td>13.605442</td>\n",
       "      <td>1.003302</td>\n",
       "      <td>36.0</td>\n",
       "      <td>1.006615</td>\n",
       "    </tr>\n",
       "    <tr>\n",
       "      <th>4</th>\n",
       "      <td>23.582766</td>\n",
       "      <td>1.155702</td>\n",
       "      <td>43.0</td>\n",
       "      <td>1.335648</td>\n",
       "    </tr>\n",
       "    <tr>\n",
       "      <th>5</th>\n",
       "      <td>7.709751</td>\n",
       "      <td>0.977902</td>\n",
       "      <td>28.0</td>\n",
       "      <td>0.956292</td>\n",
       "    </tr>\n",
       "    <tr>\n",
       "      <th>6</th>\n",
       "      <td>17.460317</td>\n",
       "      <td>1.092202</td>\n",
       "      <td>37.0</td>\n",
       "      <td>1.192906</td>\n",
       "    </tr>\n",
       "    <tr>\n",
       "      <th>7</th>\n",
       "      <td>3.854875</td>\n",
       "      <td>0.571501</td>\n",
       "      <td>20.0</td>\n",
       "      <td>0.326614</td>\n",
       "    </tr>\n",
       "    <tr>\n",
       "      <th>8</th>\n",
       "      <td>14.965986</td>\n",
       "      <td>0.939802</td>\n",
       "      <td>34.0</td>\n",
       "      <td>0.883228</td>\n",
       "    </tr>\n",
       "    <tr>\n",
       "      <th>9</th>\n",
       "      <td>4.308390</td>\n",
       "      <td>0.596901</td>\n",
       "      <td>30.0</td>\n",
       "      <td>0.356291</td>\n",
       "    </tr>\n",
       "    <tr>\n",
       "      <th>10</th>\n",
       "      <td>9.523810</td>\n",
       "      <td>0.838202</td>\n",
       "      <td>38.0</td>\n",
       "      <td>0.702582</td>\n",
       "    </tr>\n",
       "    <tr>\n",
       "      <th>11</th>\n",
       "      <td>35.827664</td>\n",
       "      <td>1.473203</td>\n",
       "      <td>47.0</td>\n",
       "      <td>2.170327</td>\n",
       "    </tr>\n",
       "  </tbody>\n",
       "</table>\n",
       "</div>"
      ],
      "text/plain": [
       "         Peso    Altura  Cateter  Altura^2\n",
       "0   18.140590  1.087122     37.0  1.181835\n",
       "1   42.403628  1.612903     50.0  2.601457\n",
       "2   16.099773  0.952502     34.0  0.907260\n",
       "3   13.605442  1.003302     36.0  1.006615\n",
       "4   23.582766  1.155702     43.0  1.335648\n",
       "5    7.709751  0.977902     28.0  0.956292\n",
       "6   17.460317  1.092202     37.0  1.192906\n",
       "7    3.854875  0.571501     20.0  0.326614\n",
       "8   14.965986  0.939802     34.0  0.883228\n",
       "9    4.308390  0.596901     30.0  0.356291\n",
       "10   9.523810  0.838202     38.0  0.702582\n",
       "11  35.827664  1.473203     47.0  2.170327"
      ]
     },
     "execution_count": 4,
     "metadata": {},
     "output_type": "execute_result"
    }
   ],
   "source": [
    "#Podemos criar atributos a partir de um atributo ja existente?\n",
    "data_table['Altura^2']=data_table.Altura**2\n",
    "data_table\n",
    "#podemos obter um modelo não linear nos dados mas linear nos parametros"
   ]
  },
  {
   "cell_type": "code",
   "execution_count": 45,
   "metadata": {},
   "outputs": [
    {
     "data": {
      "text/plain": [
       "[<matplotlib.lines.Line2D at 0x23d52731f08>]"
      ]
     },
     "execution_count": 45,
     "metadata": {},
     "output_type": "execute_result"
    },
    {
     "data": {
      "image/png": "[encoded data removed]",
      "text/plain": [
       "<Figure size 432x288 with 1 Axes>"
      ]
     },
     "metadata": {},
     "output_type": "display_data"
    }
   ],
   "source": [
    "x=np.arange(-100,100-0.5)\n",
    "y=x**5\n",
    "c=random.choices(x,k=20)\n",
    "yc=list(map(lambda i: i**5,c))\n",
    "noise=np.random.normal(0,10,20)\n",
    "plt.plot(x,y,'-',color='red')\n",
    "plt.plot(c,(yc+noise),'o',color='black')"
   ]
  },
  {
   "cell_type": "code",
   "execution_count": 46,
   "metadata": {},
   "outputs": [
    {
     "data": {
      "text/plain": [
       "array([ -4.98424407,   8.35516949,  11.14803252,  -7.59189393,\n",
       "         3.95334601,   1.25673371,  -3.00361314, -19.10985091,\n",
       "       -17.55037434, -11.05186028, -12.05007964,  25.64749848,\n",
       "         3.7175554 ,  -0.99597617, -14.79070813,   6.31028233,\n",
       "         4.33624676, -18.18665722,  -9.35594615,   3.10743494])"
      ]
     },
     "execution_count": 46,
     "metadata": {},
     "output_type": "execute_result"
    }
   ],
   "source": [
    "noise=np.random.normal(0,10,20)\n",
    "noise"
   ]
  },
  {
   "cell_type": "code",
   "execution_count": 48,
   "metadata": {},
   "outputs": [],
   "source": [
    "new_signal= yc + noise"
   ]
  },
  {
   "cell_type": "code",
   "execution_count": null,
   "metadata": {},
   "outputs": [],
   "source": [
    "plt.plot"
   ]
  }
 ],
 "metadata": {
  "kernelspec": {
   "display_name": "Python 3",
   "language": "python",
   "name": "python3"
  },
  "language_info": {
   "codemirror_mode": {
    "name": "ipython",
    "version": 3
   },
   "file_extension": ".py",
   "mimetype": "text/x-python",
   "name": "python",
   "nbconvert_exporter": "python",
   "pygments_lexer": "ipython3",
   "version": "3.7.5"
  }
 },
 "nbformat": 4,
 "nbformat_minor": 2
}
